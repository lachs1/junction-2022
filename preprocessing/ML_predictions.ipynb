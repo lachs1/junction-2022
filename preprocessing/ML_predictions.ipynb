{
 "cells": [
  {
   "cell_type": "code",
   "execution_count": 44,
   "id": "ed5e8709",
   "metadata": {},
   "outputs": [],
   "source": [
    "import xgboost as xgb\n",
    "import pandas as pd\n",
    "import numpy as np\n",
    "import matplotlib.pyplot as plt\n",
    "from xgboost import XGBRegressor, plot_tree\n",
    "from sklearn.model_selection import train_test_split, GridSearchCV, RandomizedSearchCV\n",
    "from sklearn.metrics import accuracy_score, mean_squared_error, precision_score, recall_score, roc_auc_score, roc_curve, auc\n",
    "import seaborn as sns"
   ]
  },
  {
   "cell_type": "code",
   "execution_count": 74,
   "id": "02e0da27",
   "metadata": {},
   "outputs": [
    {
     "data": {
      "text/html": [
       "<div>\n",
       "<style scoped>\n",
       "    .dataframe tbody tr th:only-of-type {\n",
       "        vertical-align: middle;\n",
       "    }\n",
       "\n",
       "    .dataframe tbody tr th {\n",
       "        vertical-align: top;\n",
       "    }\n",
       "\n",
       "    .dataframe thead th {\n",
       "        text-align: right;\n",
       "    }\n",
       "</style>\n",
       "<table border=\"1\" class=\"dataframe\">\n",
       "  <thead>\n",
       "    <tr style=\"text-align: right;\">\n",
       "      <th></th>\n",
       "      <th>Datetime</th>\n",
       "      <th>Price</th>\n",
       "      <th>Year</th>\n",
       "      <th>Month</th>\n",
       "      <th>Day</th>\n",
       "      <th>Hour</th>\n",
       "      <th>WindSpeed</th>\n",
       "      <th>Temperature</th>\n",
       "    </tr>\n",
       "  </thead>\n",
       "  <tbody>\n",
       "    <tr>\n",
       "      <th>8873</th>\n",
       "      <td>2022-11-03 20:00:00+00:00</td>\n",
       "      <td>8.438</td>\n",
       "      <td>2022</td>\n",
       "      <td>11</td>\n",
       "      <td>3</td>\n",
       "      <td>20</td>\n",
       "      <td>5.5</td>\n",
       "      <td>6.9</td>\n",
       "    </tr>\n",
       "    <tr>\n",
       "      <th>8874</th>\n",
       "      <td>2022-11-03 21:00:00+00:00</td>\n",
       "      <td>6.650</td>\n",
       "      <td>2022</td>\n",
       "      <td>11</td>\n",
       "      <td>3</td>\n",
       "      <td>21</td>\n",
       "      <td>5.3</td>\n",
       "      <td>6.8</td>\n",
       "    </tr>\n",
       "    <tr>\n",
       "      <th>8875</th>\n",
       "      <td>2022-11-03 22:00:00+00:00</td>\n",
       "      <td>2.541</td>\n",
       "      <td>2022</td>\n",
       "      <td>11</td>\n",
       "      <td>3</td>\n",
       "      <td>22</td>\n",
       "      <td>5.6</td>\n",
       "      <td>7.0</td>\n",
       "    </tr>\n",
       "    <tr>\n",
       "      <th>8876</th>\n",
       "      <td>2022-11-03 23:00:00+00:00</td>\n",
       "      <td>1.830</td>\n",
       "      <td>2022</td>\n",
       "      <td>11</td>\n",
       "      <td>3</td>\n",
       "      <td>23</td>\n",
       "      <td>5.1</td>\n",
       "      <td>6.8</td>\n",
       "    </tr>\n",
       "    <tr>\n",
       "      <th>8877</th>\n",
       "      <td>2022-11-04 00:00:00+00:00</td>\n",
       "      <td>1.755</td>\n",
       "      <td>2022</td>\n",
       "      <td>11</td>\n",
       "      <td>4</td>\n",
       "      <td>0</td>\n",
       "      <td>5.7</td>\n",
       "      <td>6.8</td>\n",
       "    </tr>\n",
       "  </tbody>\n",
       "</table>\n",
       "</div>"
      ],
      "text/plain": [
       "                       Datetime  Price  Year  Month  Day  Hour  WindSpeed  \\\n",
       "8873  2022-11-03 20:00:00+00:00  8.438  2022     11    3    20        5.5   \n",
       "8874  2022-11-03 21:00:00+00:00  6.650  2022     11    3    21        5.3   \n",
       "8875  2022-11-03 22:00:00+00:00  2.541  2022     11    3    22        5.6   \n",
       "8876  2022-11-03 23:00:00+00:00  1.830  2022     11    3    23        5.1   \n",
       "8877  2022-11-04 00:00:00+00:00  1.755  2022     11    4     0        5.7   \n",
       "\n",
       "      Temperature  \n",
       "8873          6.9  \n",
       "8874          6.8  \n",
       "8875          7.0  \n",
       "8876          6.8  \n",
       "8877          6.8  "
      ]
     },
     "execution_count": 74,
     "metadata": {},
     "output_type": "execute_result"
    }
   ],
   "source": [
    "df = pd.read_csv(\"data/ML_dataset.csv\", sep=\";\")\n",
    "df.tail()"
   ]
  },
  {
   "cell_type": "code",
   "execution_count": 64,
   "id": "46ef8ce7",
   "metadata": {},
   "outputs": [],
   "source": [
    "df.to_json('data/ML_dataset.json', indent=4, orient='records',  lines=True)"
   ]
  },
  {
   "cell_type": "code",
   "execution_count": 123,
   "id": "06c703e9",
   "metadata": {},
   "outputs": [],
   "source": [
    "split_ind = 8541\n",
    "X = df.iloc[:,3:][:split_ind]\n",
    "y = df.iloc[:,1][:split_ind]\n",
    "X_val = df.iloc[:,3:][split_ind:]\n",
    "y_val = df.iloc[:,1][split_ind:]"
   ]
  },
  {
   "cell_type": "code",
   "execution_count": 124,
   "id": "a01b2a07",
   "metadata": {},
   "outputs": [
    {
     "name": "stdout",
     "output_type": "stream",
     "text": [
      "      Month  Day  Hour  WindSpeed  Temperature\n",
      "8536     10   20    19        3.0          8.6\n",
      "8537     10   20    20        3.2          8.0\n",
      "8538     10   20    21        3.4          8.0\n",
      "8539     10   20    22        2.7          8.0\n",
      "8540     10   20    23        3.0          7.9\n",
      "      Month  Day  Hour  WindSpeed  Temperature\n",
      "8541     10   21     0        5.1          7.8\n",
      "8542     10   21     1        4.8          7.5\n",
      "8543     10   21     2        4.6          7.4\n",
      "8544     10   21     3        3.9          7.0\n",
      "8545     10   21     4        4.7          7.1\n"
     ]
    }
   ],
   "source": [
    "print(X.tail())\n",
    "print(X_val.head())"
   ]
  },
  {
   "cell_type": "code",
   "execution_count": 125,
   "id": "971f9ef2",
   "metadata": {},
   "outputs": [],
   "source": [
    "X_train, X_test, y_train, y_test = train_test_split(\n",
    "    X, y, test_size=0.2, random_state=10\n",
    ")"
   ]
  },
  {
   "cell_type": "code",
   "execution_count": 126,
   "id": "aa0565b3",
   "metadata": {},
   "outputs": [
    {
     "name": "stdout",
     "output_type": "stream",
     "text": [
      "Fitting 3 folds for each of 48 candidates, totalling 144 fits\n",
      "[CV 1/3] END .....max_depth=2, n_estimators=300;, score=0.640 total time=   0.2s\n",
      "[CV 2/3] END .....max_depth=2, n_estimators=300;, score=0.640 total time=   0.2s\n",
      "[CV 3/3] END .....max_depth=2, n_estimators=300;, score=0.621 total time=   0.2s\n",
      "[CV 1/3] END .....max_depth=2, n_estimators=400;, score=0.648 total time=   0.3s\n",
      "[CV 2/3] END .....max_depth=2, n_estimators=400;, score=0.653 total time=   0.5s\n",
      "[CV 3/3] END .....max_depth=2, n_estimators=400;, score=0.635 total time=   0.5s\n",
      "[CV 1/3] END .....max_depth=2, n_estimators=500;, score=0.656 total time=   0.4s\n",
      "[CV 2/3] END .....max_depth=2, n_estimators=500;, score=0.663 total time=   0.3s\n",
      "[CV 3/3] END .....max_depth=2, n_estimators=500;, score=0.645 total time=   0.3s\n",
      "[CV 1/3] END .....max_depth=2, n_estimators=600;, score=0.662 total time=   0.4s\n",
      "[CV 2/3] END .....max_depth=2, n_estimators=600;, score=0.671 total time=   0.4s\n",
      "[CV 3/3] END .....max_depth=2, n_estimators=600;, score=0.650 total time=   0.4s\n",
      "[CV 1/3] END .....max_depth=2, n_estimators=700;, score=0.668 total time=   0.5s\n",
      "[CV 2/3] END .....max_depth=2, n_estimators=700;, score=0.678 total time=   0.5s\n",
      "[CV 3/3] END .....max_depth=2, n_estimators=700;, score=0.655 total time=   0.5s\n",
      "[CV 1/3] END .....max_depth=2, n_estimators=800;, score=0.671 total time=   0.5s\n",
      "[CV 2/3] END .....max_depth=2, n_estimators=800;, score=0.681 total time=   0.6s\n",
      "[CV 3/3] END .....max_depth=2, n_estimators=800;, score=0.659 total time=   0.5s\n",
      "[CV 1/3] END .....max_depth=3, n_estimators=300;, score=0.730 total time=   0.3s\n",
      "[CV 2/3] END .....max_depth=3, n_estimators=300;, score=0.712 total time=   0.3s\n",
      "[CV 3/3] END .....max_depth=3, n_estimators=300;, score=0.717 total time=   0.3s\n",
      "[CV 1/3] END .....max_depth=3, n_estimators=400;, score=0.737 total time=   0.4s\n",
      "[CV 2/3] END .....max_depth=3, n_estimators=400;, score=0.725 total time=   0.4s\n",
      "[CV 3/3] END .....max_depth=3, n_estimators=400;, score=0.721 total time=   0.5s\n",
      "[CV 1/3] END .....max_depth=3, n_estimators=500;, score=0.741 total time=   0.5s\n",
      "[CV 2/3] END .....max_depth=3, n_estimators=500;, score=0.728 total time=   0.5s\n",
      "[CV 3/3] END .....max_depth=3, n_estimators=500;, score=0.730 total time=   0.5s\n",
      "[CV 1/3] END .....max_depth=3, n_estimators=600;, score=0.743 total time=   0.7s\n",
      "[CV 2/3] END .....max_depth=3, n_estimators=600;, score=0.730 total time=   0.7s\n",
      "[CV 3/3] END .....max_depth=3, n_estimators=600;, score=0.733 total time=   0.6s\n",
      "[CV 1/3] END .....max_depth=3, n_estimators=700;, score=0.747 total time=   0.7s\n",
      "[CV 2/3] END .....max_depth=3, n_estimators=700;, score=0.731 total time=   0.7s\n",
      "[CV 3/3] END .....max_depth=3, n_estimators=700;, score=0.735 total time=   0.7s\n",
      "[CV 1/3] END .....max_depth=3, n_estimators=800;, score=0.748 total time=   0.7s\n",
      "[CV 2/3] END .....max_depth=3, n_estimators=800;, score=0.733 total time=   0.8s\n",
      "[CV 3/3] END .....max_depth=3, n_estimators=800;, score=0.735 total time=   1.0s\n",
      "[CV 1/3] END .....max_depth=4, n_estimators=300;, score=0.773 total time=   0.6s\n",
      "[CV 2/3] END .....max_depth=4, n_estimators=300;, score=0.768 total time=   0.4s\n",
      "[CV 3/3] END .....max_depth=4, n_estimators=300;, score=0.767 total time=   0.4s\n",
      "[CV 1/3] END .....max_depth=4, n_estimators=400;, score=0.776 total time=   0.5s\n",
      "[CV 2/3] END .....max_depth=4, n_estimators=400;, score=0.773 total time=   0.5s\n",
      "[CV 3/3] END .....max_depth=4, n_estimators=400;, score=0.767 total time=   0.5s\n",
      "[CV 1/3] END .....max_depth=4, n_estimators=500;, score=0.778 total time=   0.7s\n",
      "[CV 2/3] END .....max_depth=4, n_estimators=500;, score=0.773 total time=   0.7s\n",
      "[CV 3/3] END .....max_depth=4, n_estimators=500;, score=0.767 total time=   0.7s\n",
      "[CV 1/3] END .....max_depth=4, n_estimators=600;, score=0.779 total time=   0.8s\n",
      "[CV 2/3] END .....max_depth=4, n_estimators=600;, score=0.772 total time=   0.8s\n",
      "[CV 3/3] END .....max_depth=4, n_estimators=600;, score=0.769 total time=   1.3s\n",
      "[CV 1/3] END .....max_depth=4, n_estimators=700;, score=0.779 total time=   1.0s\n",
      "[CV 2/3] END .....max_depth=4, n_estimators=700;, score=0.772 total time=   1.0s\n",
      "[CV 3/3] END .....max_depth=4, n_estimators=700;, score=0.769 total time=   1.0s\n",
      "[CV 1/3] END .....max_depth=4, n_estimators=800;, score=0.780 total time=   1.2s\n",
      "[CV 2/3] END .....max_depth=4, n_estimators=800;, score=0.772 total time=   1.1s\n",
      "[CV 3/3] END .....max_depth=4, n_estimators=800;, score=0.770 total time=   1.3s\n",
      "[CV 1/3] END .....max_depth=5, n_estimators=300;, score=0.806 total time=   0.7s\n",
      "[CV 2/3] END .....max_depth=5, n_estimators=300;, score=0.788 total time=   0.7s\n",
      "[CV 3/3] END .....max_depth=5, n_estimators=300;, score=0.783 total time=   0.7s\n",
      "[CV 1/3] END .....max_depth=5, n_estimators=400;, score=0.807 total time=   1.0s\n",
      "[CV 2/3] END .....max_depth=5, n_estimators=400;, score=0.790 total time=   0.7s\n",
      "[CV 3/3] END .....max_depth=5, n_estimators=400;, score=0.783 total time=   1.1s\n",
      "[CV 1/3] END .....max_depth=5, n_estimators=500;, score=0.808 total time=   0.9s\n",
      "[CV 2/3] END .....max_depth=5, n_estimators=500;, score=0.790 total time=   1.1s\n",
      "[CV 3/3] END .....max_depth=5, n_estimators=500;, score=0.781 total time=   0.8s\n",
      "[CV 1/3] END .....max_depth=5, n_estimators=600;, score=0.808 total time=   1.5s\n",
      "[CV 2/3] END .....max_depth=5, n_estimators=600;, score=0.790 total time=   3.8s\n",
      "[CV 3/3] END .....max_depth=5, n_estimators=600;, score=0.781 total time=   1.2s\n",
      "[CV 1/3] END .....max_depth=5, n_estimators=700;, score=0.808 total time=   1.2s\n",
      "[CV 2/3] END .....max_depth=5, n_estimators=700;, score=0.790 total time=   1.4s\n",
      "[CV 3/3] END .....max_depth=5, n_estimators=700;, score=0.781 total time=   1.8s\n",
      "[CV 1/3] END .....max_depth=5, n_estimators=800;, score=0.808 total time=   1.3s\n",
      "[CV 2/3] END .....max_depth=5, n_estimators=800;, score=0.790 total time=   1.3s\n",
      "[CV 3/3] END .....max_depth=5, n_estimators=800;, score=0.780 total time=   1.3s\n",
      "[CV 1/3] END .....max_depth=6, n_estimators=300;, score=0.802 total time=   0.6s\n",
      "[CV 2/3] END .....max_depth=6, n_estimators=300;, score=0.805 total time=   0.6s\n",
      "[CV 3/3] END .....max_depth=6, n_estimators=300;, score=0.782 total time=   0.6s\n",
      "[CV 1/3] END .....max_depth=6, n_estimators=400;, score=0.802 total time=   0.9s\n",
      "[CV 2/3] END .....max_depth=6, n_estimators=400;, score=0.805 total time=   1.0s\n",
      "[CV 3/3] END .....max_depth=6, n_estimators=400;, score=0.782 total time=   0.8s\n",
      "[CV 1/3] END .....max_depth=6, n_estimators=500;, score=0.803 total time=   1.0s\n",
      "[CV 2/3] END .....max_depth=6, n_estimators=500;, score=0.805 total time=   1.0s\n",
      "[CV 3/3] END .....max_depth=6, n_estimators=500;, score=0.782 total time=   1.0s\n",
      "[CV 1/3] END .....max_depth=6, n_estimators=600;, score=0.803 total time=   1.1s\n",
      "[CV 2/3] END .....max_depth=6, n_estimators=600;, score=0.805 total time=   1.1s\n",
      "[CV 3/3] END .....max_depth=6, n_estimators=600;, score=0.782 total time=   1.8s\n",
      "[CV 1/3] END .....max_depth=6, n_estimators=700;, score=0.803 total time=   1.4s\n",
      "[CV 2/3] END .....max_depth=6, n_estimators=700;, score=0.805 total time=   1.4s\n",
      "[CV 3/3] END .....max_depth=6, n_estimators=700;, score=0.782 total time=   1.7s\n",
      "[CV 1/3] END .....max_depth=6, n_estimators=800;, score=0.803 total time=   2.6s\n",
      "[CV 2/3] END .....max_depth=6, n_estimators=800;, score=0.805 total time=   2.1s\n",
      "[CV 3/3] END .....max_depth=6, n_estimators=800;, score=0.782 total time=   1.7s\n",
      "[CV 1/3] END .....max_depth=7, n_estimators=300;, score=0.823 total time=   0.7s\n",
      "[CV 2/3] END .....max_depth=7, n_estimators=300;, score=0.809 total time=   0.7s\n",
      "[CV 3/3] END .....max_depth=7, n_estimators=300;, score=0.811 total time=   0.7s\n",
      "[CV 1/3] END .....max_depth=7, n_estimators=400;, score=0.823 total time=   0.9s\n",
      "[CV 2/3] END .....max_depth=7, n_estimators=400;, score=0.809 total time=   1.0s\n",
      "[CV 3/3] END .....max_depth=7, n_estimators=400;, score=0.811 total time=   1.4s\n",
      "[CV 1/3] END .....max_depth=7, n_estimators=500;, score=0.823 total time=   1.2s\n",
      "[CV 2/3] END .....max_depth=7, n_estimators=500;, score=0.809 total time=   1.1s\n",
      "[CV 3/3] END .....max_depth=7, n_estimators=500;, score=0.811 total time=   1.1s\n",
      "[CV 1/3] END .....max_depth=7, n_estimators=600;, score=0.823 total time=   1.4s\n",
      "[CV 2/3] END .....max_depth=7, n_estimators=600;, score=0.809 total time=   1.3s\n"
     ]
    },
    {
     "name": "stdout",
     "output_type": "stream",
     "text": [
      "[CV 3/3] END .....max_depth=7, n_estimators=600;, score=0.811 total time=   1.3s\n",
      "[CV 1/3] END .....max_depth=7, n_estimators=700;, score=0.823 total time=   1.6s\n",
      "[CV 2/3] END .....max_depth=7, n_estimators=700;, score=0.809 total time=   1.5s\n",
      "[CV 3/3] END .....max_depth=7, n_estimators=700;, score=0.811 total time=   1.5s\n",
      "[CV 1/3] END .....max_depth=7, n_estimators=800;, score=0.823 total time=   1.7s\n",
      "[CV 2/3] END .....max_depth=7, n_estimators=800;, score=0.809 total time=   1.8s\n",
      "[CV 3/3] END .....max_depth=7, n_estimators=800;, score=0.811 total time=   1.8s\n",
      "[CV 1/3] END .....max_depth=8, n_estimators=300;, score=0.835 total time=   0.8s\n",
      "[CV 2/3] END .....max_depth=8, n_estimators=300;, score=0.822 total time=   0.8s\n",
      "[CV 3/3] END .....max_depth=8, n_estimators=300;, score=0.807 total time=   0.8s\n",
      "[CV 1/3] END .....max_depth=8, n_estimators=400;, score=0.835 total time=   1.0s\n",
      "[CV 2/3] END .....max_depth=8, n_estimators=400;, score=0.822 total time=   1.0s\n",
      "[CV 3/3] END .....max_depth=8, n_estimators=400;, score=0.807 total time=   1.0s\n",
      "[CV 1/3] END .....max_depth=8, n_estimators=500;, score=0.835 total time=   1.4s\n",
      "[CV 2/3] END .....max_depth=8, n_estimators=500;, score=0.822 total time=   1.7s\n",
      "[CV 3/3] END .....max_depth=8, n_estimators=500;, score=0.808 total time=   1.3s\n",
      "[CV 1/3] END .....max_depth=8, n_estimators=600;, score=0.835 total time=   1.6s\n",
      "[CV 2/3] END .....max_depth=8, n_estimators=600;, score=0.822 total time=   2.6s\n",
      "[CV 3/3] END .....max_depth=8, n_estimators=600;, score=0.808 total time=   1.7s\n",
      "[CV 1/3] END .....max_depth=8, n_estimators=700;, score=0.835 total time=   1.9s\n",
      "[CV 2/3] END .....max_depth=8, n_estimators=700;, score=0.822 total time=   2.1s\n",
      "[CV 3/3] END .....max_depth=8, n_estimators=700;, score=0.808 total time=   1.7s\n",
      "[CV 1/3] END .....max_depth=8, n_estimators=800;, score=0.835 total time=   2.0s\n",
      "[CV 2/3] END .....max_depth=8, n_estimators=800;, score=0.822 total time=   2.2s\n",
      "[CV 3/3] END .....max_depth=8, n_estimators=800;, score=0.808 total time=   1.9s\n",
      "[CV 1/3] END .....max_depth=9, n_estimators=300;, score=0.834 total time=   1.0s\n",
      "[CV 2/3] END .....max_depth=9, n_estimators=300;, score=0.825 total time=   1.2s\n",
      "[CV 3/3] END .....max_depth=9, n_estimators=300;, score=0.818 total time=   1.3s\n",
      "[CV 1/3] END .....max_depth=9, n_estimators=400;, score=0.834 total time=   1.2s\n",
      "[CV 2/3] END .....max_depth=9, n_estimators=400;, score=0.825 total time=   1.2s\n",
      "[CV 3/3] END .....max_depth=9, n_estimators=400;, score=0.818 total time=   1.2s\n",
      "[CV 1/3] END .....max_depth=9, n_estimators=500;, score=0.834 total time=   1.2s\n",
      "[CV 2/3] END .....max_depth=9, n_estimators=500;, score=0.825 total time=   1.2s\n",
      "[CV 3/3] END .....max_depth=9, n_estimators=500;, score=0.818 total time=   1.2s\n",
      "[CV 1/3] END .....max_depth=9, n_estimators=600;, score=0.834 total time=   1.2s\n",
      "[CV 2/3] END .....max_depth=9, n_estimators=600;, score=0.825 total time=   1.4s\n",
      "[CV 3/3] END .....max_depth=9, n_estimators=600;, score=0.818 total time=   1.3s\n",
      "[CV 1/3] END .....max_depth=9, n_estimators=700;, score=0.834 total time=   1.3s\n",
      "[CV 2/3] END .....max_depth=9, n_estimators=700;, score=0.825 total time=   1.3s\n",
      "[CV 3/3] END .....max_depth=9, n_estimators=700;, score=0.818 total time=   1.9s\n",
      "[CV 1/3] END .....max_depth=9, n_estimators=800;, score=0.834 total time=   1.3s\n",
      "[CV 2/3] END .....max_depth=9, n_estimators=800;, score=0.825 total time=   1.4s\n",
      "[CV 3/3] END .....max_depth=9, n_estimators=800;, score=0.818 total time=   1.4s\n",
      "The best hyperparameters are  {'max_depth': 9, 'n_estimators': 300}\n"
     ]
    }
   ],
   "source": [
    "regressor=xgb.XGBRegressor(eval_metric='rmsle')\n",
    "\n",
    "# set up our search grid\n",
    "param_grid = {\"max_depth\":    range(2,10,1),\n",
    "              \"n_estimators\": range(300,900,100),\n",
    "             \"max_delta_step\": range(0,10,1)}\n",
    "              #\"learning_rate\": [0.01,0.1,0.2,0.3]}\n",
    "\n",
    "# try out every combination of the above values\n",
    "#search = RandomizedSearchCV(regressor, param_grid, cv=3, verbose=3, n_iter=50).fit(X_train, y_train)\n",
    "search = GridSearchCV(regressor, param_grid, cv=3, verbose=3).fit(X_train, y_train)\n",
    "\n",
    "\n",
    "print(\"The best hyperparameters are \",search.best_params_)"
   ]
  },
  {
   "cell_type": "code",
   "execution_count": 185,
   "id": "e9cc170c",
   "metadata": {},
   "outputs": [
    {
     "data": {
      "text/plain": [
       "XGBRegressor(base_score=0.5, booster='gbtree', callbacks=None,\n",
       "             colsample_bylevel=1, colsample_bynode=1, colsample_bytree=1,\n",
       "             early_stopping_rounds=None, enable_categorical=False,\n",
       "             eval_metric=None, feature_types=None, gamma=0, gpu_id=-1,\n",
       "             grow_policy='depthwise', importance_type=None,\n",
       "             interaction_constraints='', learning_rate=0.1, max_bin=256,\n",
       "             max_cat_threshold=64, max_cat_to_onehot=4, max_delta_step=5,\n",
       "             max_depth=9, max_leaves=0, min_child_weight=1, missing=nan,\n",
       "             monotone_constraints='()', n_estimators=300, n_jobs=0,\n",
       "             num_parallel_tree=1, predictor='auto', random_state=0, ...)"
      ]
     },
     "execution_count": 185,
     "metadata": {},
     "output_type": "execute_result"
    }
   ],
   "source": [
    "regressor=xgb.XGBRegressor(n_estimators=300, max_depth=9, learning_rate=0.1, max_delta_step=5)\n",
    "regressor.fit(X_train, y_train)"
   ]
  },
  {
   "cell_type": "code",
   "execution_count": 186,
   "id": "d3bc5bbb",
   "metadata": {},
   "outputs": [],
   "source": [
    "predictions = regressor.predict(X_test)"
   ]
  },
  {
   "cell_type": "code",
   "execution_count": 187,
   "id": "5a8dac03",
   "metadata": {},
   "outputs": [
    {
     "data": {
      "text/plain": [
       "[<matplotlib.lines.Line2D at 0x7f872b509730>]"
      ]
     },
     "execution_count": 187,
     "metadata": {},
     "output_type": "execute_result"
    },
    {
     "data": {
      "image/png": "[encoded data removed]",
      "text/plain": [
       "<Figure size 432x288 with 1 Axes>"
      ]
     },
     "metadata": {
      "needs_background": "light"
     },
     "output_type": "display_data"
    }
   ],
   "source": [
    "plt.plot(list(predictions[400:500]), color='b')\n",
    "plt.plot(list(y_test[400:500]), color='r')"
   ]
  },
  {
   "cell_type": "code",
   "execution_count": 188,
   "id": "5e5cfc2c",
   "metadata": {},
   "outputs": [],
   "source": [
    "#valid\n",
    "\n",
    "predictions_val = regressor.predict(X_val)"
   ]
  },
  {
   "cell_type": "code",
   "execution_count": 189,
   "id": "1b40d7ae",
   "metadata": {},
   "outputs": [
    {
     "data": {
      "text/plain": [
       "(337,)"
      ]
     },
     "execution_count": 189,
     "metadata": {},
     "output_type": "execute_result"
    }
   ],
   "source": [
    "predictions_val.shape"
   ]
  },
  {
   "cell_type": "code",
   "execution_count": 190,
   "id": "7532a178",
   "metadata": {},
   "outputs": [
    {
     "data": {
      "text/plain": [
       "[<matplotlib.lines.Line2D at 0x7f87254cd760>]"
      ]
     },
     "execution_count": 190,
     "metadata": {},
     "output_type": "execute_result"
    },
    {
     "data": {
      "image/png": "[encoded data removed]",
      "text/plain": [
       "<Figure size 432x288 with 1 Axes>"
      ]
     },
     "metadata": {
      "needs_background": "light"
     },
     "output_type": "display_data"
    }
   ],
   "source": [
    "plt.plot(list(predictions_val), color='b')\n",
    "plt.plot(list(y_val), color='r')"
   ]
  },
  {
   "cell_type": "code",
   "execution_count": null,
   "id": "633db29b",
   "metadata": {},
   "outputs": [],
   "source": []
  }
 ],
 "metadata": {
  "kernelspec": {
   "display_name": "Python 3 (ipykernel)",
   "language": "python",
   "name": "python3"
  },
  "language_info": {
   "codemirror_mode": {
    "name": "ipython",
    "version": 3
   },
   "file_extension": ".py",
   "mimetype": "text/x-python",
   "name": "python",
   "nbconvert_exporter": "python",
   "pygments_lexer": "ipython3",
   "version": "3.9.12"
  }
 },
 "nbformat": 4,
 "nbformat_minor": 5
}
