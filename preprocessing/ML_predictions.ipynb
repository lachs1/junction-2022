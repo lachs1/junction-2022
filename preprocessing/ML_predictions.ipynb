{
 "cells": [
  {
   "cell_type": "code",
   "execution_count": 44,
   "id": "ed5e8709",
   "metadata": {},
   "outputs": [],
   "source": [
    "import xgboost as xgb\n",
    "import pandas as pd\n",
    "import numpy as np\n",
    "import matplotlib.pyplot as plt\n",
    "from xgboost import XGBRegressor, plot_tree\n",
    "from sklearn.model_selection import train_test_split, GridSearchCV, RandomizedSearchCV\n",
    "from sklearn.metrics import accuracy_score, mean_squared_error, precision_score, recall_score, roc_auc_score, roc_curve, auc\n",
    "import seaborn as sns"
   ]
  },
  {
   "cell_type": "code",
   "execution_count": 4,
   "id": "02e0da27",
   "metadata": {},
   "outputs": [
    {
     "data": {
      "text/html": [
       "<div>\n",
       "<style scoped>\n",
       "    .dataframe tbody tr th:only-of-type {\n",
       "        vertical-align: middle;\n",
       "    }\n",
       "\n",
       "    .dataframe tbody tr th {\n",
       "        vertical-align: top;\n",
       "    }\n",
       "\n",
       "    .dataframe thead th {\n",
       "        text-align: right;\n",
       "    }\n",
       "</style>\n",
       "<table border=\"1\" class=\"dataframe\">\n",
       "  <thead>\n",
       "    <tr style=\"text-align: right;\">\n",
       "      <th></th>\n",
       "      <th>Datetime</th>\n",
       "      <th>Price</th>\n",
       "      <th>Year</th>\n",
       "      <th>Month</th>\n",
       "      <th>Day</th>\n",
       "      <th>Hour</th>\n",
       "      <th>WindSpeed</th>\n",
       "      <th>Temperature</th>\n",
       "    </tr>\n",
       "  </thead>\n",
       "  <tbody>\n",
       "    <tr>\n",
       "      <th>0</th>\n",
       "      <td>2021-10-29 22:00:00+00:00</td>\n",
       "      <td>1.215</td>\n",
       "      <td>2021</td>\n",
       "      <td>10</td>\n",
       "      <td>29</td>\n",
       "      <td>22</td>\n",
       "      <td>8.7</td>\n",
       "      <td>9.5</td>\n",
       "    </tr>\n",
       "    <tr>\n",
       "      <th>1</th>\n",
       "      <td>2021-10-29 23:00:00+00:00</td>\n",
       "      <td>1.281</td>\n",
       "      <td>2021</td>\n",
       "      <td>10</td>\n",
       "      <td>29</td>\n",
       "      <td>23</td>\n",
       "      <td>7.7</td>\n",
       "      <td>9.5</td>\n",
       "    </tr>\n",
       "    <tr>\n",
       "      <th>2</th>\n",
       "      <td>2021-10-30 00:00:00+00:00</td>\n",
       "      <td>1.189</td>\n",
       "      <td>2021</td>\n",
       "      <td>10</td>\n",
       "      <td>30</td>\n",
       "      <td>0</td>\n",
       "      <td>6.8</td>\n",
       "      <td>9.6</td>\n",
       "    </tr>\n",
       "    <tr>\n",
       "      <th>3</th>\n",
       "      <td>2021-10-30 01:00:00+00:00</td>\n",
       "      <td>1.197</td>\n",
       "      <td>2021</td>\n",
       "      <td>10</td>\n",
       "      <td>30</td>\n",
       "      <td>1</td>\n",
       "      <td>5.2</td>\n",
       "      <td>9.5</td>\n",
       "    </tr>\n",
       "    <tr>\n",
       "      <th>4</th>\n",
       "      <td>2021-10-30 02:00:00+00:00</td>\n",
       "      <td>1.229</td>\n",
       "      <td>2021</td>\n",
       "      <td>10</td>\n",
       "      <td>30</td>\n",
       "      <td>2</td>\n",
       "      <td>6.0</td>\n",
       "      <td>9.4</td>\n",
       "    </tr>\n",
       "  </tbody>\n",
       "</table>\n",
       "</div>"
      ],
      "text/plain": [
       "                    Datetime  Price  Year  Month  Day  Hour  WindSpeed  \\\n",
       "0  2021-10-29 22:00:00+00:00  1.215  2021     10   29    22        8.7   \n",
       "1  2021-10-29 23:00:00+00:00  1.281  2021     10   29    23        7.7   \n",
       "2  2021-10-30 00:00:00+00:00  1.189  2021     10   30     0        6.8   \n",
       "3  2021-10-30 01:00:00+00:00  1.197  2021     10   30     1        5.2   \n",
       "4  2021-10-30 02:00:00+00:00  1.229  2021     10   30     2        6.0   \n",
       "\n",
       "   Temperature  \n",
       "0          9.5  \n",
       "1          9.5  \n",
       "2          9.6  \n",
       "3          9.5  \n",
       "4          9.4  "
      ]
     },
     "execution_count": 4,
     "metadata": {},
     "output_type": "execute_result"
    }
   ],
   "source": [
    "df = pd.read_csv(\"data/ML_dataset.csv\", sep=\";\")\n",
    "df.head()"
   ]
  },
  {
   "cell_type": "code",
   "execution_count": 39,
   "id": "06c703e9",
   "metadata": {},
   "outputs": [],
   "source": [
    "X = df.iloc[:,3:][:8541]\n",
    "y = df.iloc[:,1][:8541]\n",
    "X_val = df.iloc[:,3:][8541:]\n",
    "y_val = df.iloc[:,1][8541:]"
   ]
  },
  {
   "cell_type": "code",
   "execution_count": 40,
   "id": "a01b2a07",
   "metadata": {},
   "outputs": [
    {
     "name": "stdout",
     "output_type": "stream",
     "text": [
      "      Month  Day  Hour  WindSpeed  Temperature\n",
      "8536     10   20    19        3.0          8.6\n",
      "8537     10   20    20        3.2          8.0\n",
      "8538     10   20    21        3.4          8.0\n",
      "8539     10   20    22        2.7          8.0\n",
      "8540     10   20    23        3.0          7.9\n",
      "      Month  Day  Hour  WindSpeed  Temperature\n",
      "8541     10   21     0        5.1          7.8\n",
      "8542     10   21     1        4.8          7.5\n",
      "8543     10   21     2        4.6          7.4\n",
      "8544     10   21     3        3.9          7.0\n",
      "8545     10   21     4        4.7          7.1\n"
     ]
    }
   ],
   "source": [
    "print(X.tail())\n",
    "print(X_val.head())"
   ]
  },
  {
   "cell_type": "code",
   "execution_count": 42,
   "id": "971f9ef2",
   "metadata": {},
   "outputs": [],
   "source": [
    "X_train, X_test, y_train, y_test = train_test_split(\n",
    "    X, y, test_size=0.3, random_state=10\n",
    ")"
   ]
  },
  {
   "cell_type": "code",
   "execution_count": 45,
   "id": "aa0565b3",
   "metadata": {},
   "outputs": [
    {
     "name": "stdout",
     "output_type": "stream",
     "text": [
      "Fitting 3 folds for each of 50 candidates, totalling 150 fits\n",
      "[CV 1/3] END learning_rate=0.2, max_depth=7, n_estimators=800;, score=0.816 total time=   1.6s\n",
      "[CV 2/3] END learning_rate=0.2, max_depth=7, n_estimators=800;, score=0.805 total time=   1.6s\n",
      "[CV 3/3] END learning_rate=0.2, max_depth=7, n_estimators=800;, score=0.807 total time=   1.6s\n",
      "[CV 1/3] END learning_rate=0.1, max_depth=4, n_estimators=800;, score=0.759 total time=   0.9s\n",
      "[CV 2/3] END learning_rate=0.1, max_depth=4, n_estimators=800;, score=0.760 total time=   0.9s\n",
      "[CV 3/3] END learning_rate=0.1, max_depth=4, n_estimators=800;, score=0.760 total time=   0.9s\n",
      "[CV 1/3] END learning_rate=0.001, max_depth=6, n_estimators=400;, score=-0.233 total time=   0.7s\n",
      "[CV 2/3] END learning_rate=0.001, max_depth=6, n_estimators=400;, score=-0.274 total time=   0.7s\n",
      "[CV 3/3] END learning_rate=0.001, max_depth=6, n_estimators=400;, score=-0.194 total time=   0.7s\n",
      "[CV 1/3] END learning_rate=0.001, max_depth=4, n_estimators=700;, score=0.028 total time=   0.8s\n",
      "[CV 2/3] END learning_rate=0.001, max_depth=4, n_estimators=700;, score=-0.013 total time=   0.8s\n",
      "[CV 3/3] END learning_rate=0.001, max_depth=4, n_estimators=700;, score=0.049 total time=   0.8s\n",
      "[CV 1/3] END learning_rate=0.3, max_depth=8, n_estimators=600;, score=0.811 total time=   1.4s\n",
      "[CV 2/3] END learning_rate=0.3, max_depth=8, n_estimators=600;, score=0.810 total time=   1.6s\n",
      "[CV 3/3] END learning_rate=0.3, max_depth=8, n_estimators=600;, score=0.818 total time=   1.2s\n",
      "[CV 1/3] END learning_rate=0.3, max_depth=8, n_estimators=400;, score=0.811 total time=   0.9s\n",
      "[CV 2/3] END learning_rate=0.3, max_depth=8, n_estimators=400;, score=0.810 total time=   0.9s\n",
      "[CV 3/3] END learning_rate=0.3, max_depth=8, n_estimators=400;, score=0.818 total time=   1.1s\n",
      "[CV 1/3] END learning_rate=0.2, max_depth=9, n_estimators=300;, score=0.815 total time=   0.9s\n",
      "[CV 2/3] END learning_rate=0.2, max_depth=9, n_estimators=300;, score=0.823 total time=   0.8s\n",
      "[CV 3/3] END learning_rate=0.2, max_depth=9, n_estimators=300;, score=0.814 total time=   0.9s\n",
      "[CV 1/3] END learning_rate=0.3, max_depth=4, n_estimators=400;, score=0.774 total time=   0.5s\n",
      "[CV 2/3] END learning_rate=0.3, max_depth=4, n_estimators=400;, score=0.760 total time=   0.5s\n",
      "[CV 3/3] END learning_rate=0.3, max_depth=4, n_estimators=400;, score=0.763 total time=   0.5s\n",
      "[CV 1/3] END learning_rate=0.001, max_depth=9, n_estimators=200;, score=-0.564 total time=   0.6s\n",
      "[CV 2/3] END learning_rate=0.001, max_depth=9, n_estimators=200;, score=-0.588 total time=   0.6s\n",
      "[CV 3/3] END learning_rate=0.001, max_depth=9, n_estimators=200;, score=-0.512 total time=   1.1s\n",
      "[CV 1/3] END learning_rate=0.0001, max_depth=2, n_estimators=600;, score=-0.994 total time=   0.5s\n",
      "[CV 2/3] END learning_rate=0.0001, max_depth=2, n_estimators=600;, score=-1.029 total time=   0.4s\n",
      "[CV 3/3] END learning_rate=0.0001, max_depth=2, n_estimators=600;, score=-0.925 total time=   0.4s\n",
      "[CV 1/3] END learning_rate=0.001, max_depth=5, n_estimators=700;, score=0.067 total time=   1.0s\n",
      "[CV 2/3] END learning_rate=0.001, max_depth=5, n_estimators=700;, score=0.037 total time=   1.0s\n",
      "[CV 3/3] END learning_rate=0.001, max_depth=5, n_estimators=700;, score=0.090 total time=   0.9s\n",
      "[CV 1/3] END learning_rate=0.2, max_depth=9, n_estimators=400;, score=0.815 total time=   1.0s\n",
      "[CV 2/3] END learning_rate=0.2, max_depth=9, n_estimators=400;, score=0.823 total time=   1.1s\n",
      "[CV 3/3] END learning_rate=0.2, max_depth=9, n_estimators=400;, score=0.814 total time=   1.1s\n",
      "[CV 1/3] END learning_rate=0.1, max_depth=4, n_estimators=900;, score=0.761 total time=   1.0s\n",
      "[CV 2/3] END learning_rate=0.1, max_depth=4, n_estimators=900;, score=0.761 total time=   1.0s\n",
      "[CV 3/3] END learning_rate=0.1, max_depth=4, n_estimators=900;, score=0.763 total time=   1.0s\n",
      "[CV 1/3] END learning_rate=0.0001, max_depth=9, n_estimators=600;, score=-0.945 total time=   1.7s\n",
      "[CV 2/3] END learning_rate=0.0001, max_depth=9, n_estimators=600;, score=-0.975 total time=   1.7s\n",
      "[CV 3/3] END learning_rate=0.0001, max_depth=9, n_estimators=600;, score=-0.877 total time=   2.2s\n",
      "[CV 1/3] END learning_rate=0.1, max_depth=2, n_estimators=300;, score=0.597 total time=   0.2s\n",
      "[CV 2/3] END learning_rate=0.1, max_depth=2, n_estimators=300;, score=0.583 total time=   0.2s\n",
      "[CV 3/3] END learning_rate=0.1, max_depth=2, n_estimators=300;, score=0.571 total time=   0.2s\n",
      "[CV 1/3] END learning_rate=0.001, max_depth=2, n_estimators=200;, score=-0.706 total time=   0.1s\n",
      "[CV 2/3] END learning_rate=0.001, max_depth=2, n_estimators=200;, score=-0.744 total time=   0.1s\n",
      "[CV 3/3] END learning_rate=0.001, max_depth=2, n_estimators=200;, score=-0.646 total time=   0.1s\n",
      "[CV 1/3] END learning_rate=0.3, max_depth=6, n_estimators=600;, score=0.798 total time=   1.0s\n",
      "[CV 2/3] END learning_rate=0.3, max_depth=6, n_estimators=600;, score=0.797 total time=   1.0s\n",
      "[CV 3/3] END learning_rate=0.3, max_depth=6, n_estimators=600;, score=0.784 total time=   1.0s\n",
      "[CV 1/3] END learning_rate=0.2, max_depth=5, n_estimators=400;, score=0.791 total time=   0.6s\n",
      "[CV 2/3] END learning_rate=0.2, max_depth=5, n_estimators=400;, score=0.785 total time=   0.6s\n",
      "[CV 3/3] END learning_rate=0.2, max_depth=5, n_estimators=400;, score=0.788 total time=   0.6s\n",
      "[CV 1/3] END learning_rate=0.3, max_depth=8, n_estimators=300;, score=0.811 total time=   0.7s\n",
      "[CV 2/3] END learning_rate=0.3, max_depth=8, n_estimators=300;, score=0.810 total time=   0.7s\n",
      "[CV 3/3] END learning_rate=0.3, max_depth=8, n_estimators=300;, score=0.818 total time=   0.7s\n",
      "[CV 1/3] END learning_rate=0.0001, max_depth=3, n_estimators=200;, score=-1.088 total time=   0.2s\n",
      "[CV 2/3] END learning_rate=0.0001, max_depth=3, n_estimators=200;, score=-1.122 total time=   0.2s\n",
      "[CV 3/3] END learning_rate=0.0001, max_depth=3, n_estimators=200;, score=-1.016 total time=   0.2s\n",
      "[CV 1/3] END learning_rate=0.0001, max_depth=4, n_estimators=700;, score=-0.949 total time=   0.8s\n",
      "[CV 2/3] END learning_rate=0.0001, max_depth=4, n_estimators=700;, score=-0.985 total time=   0.8s\n",
      "[CV 3/3] END learning_rate=0.0001, max_depth=4, n_estimators=700;, score=-0.882 total time=   0.7s\n",
      "[CV 1/3] END learning_rate=0.1, max_depth=4, n_estimators=700;, score=0.758 total time=   0.7s\n",
      "[CV 2/3] END learning_rate=0.1, max_depth=4, n_estimators=700;, score=0.759 total time=   0.7s\n",
      "[CV 3/3] END learning_rate=0.1, max_depth=4, n_estimators=700;, score=0.759 total time=   0.7s\n",
      "[CV 1/3] END learning_rate=0.3, max_depth=7, n_estimators=800;, score=0.796 total time=   2.1s\n",
      "[CV 2/3] END learning_rate=0.3, max_depth=7, n_estimators=800;, score=0.812 total time=   1.5s\n",
      "[CV 3/3] END learning_rate=0.3, max_depth=7, n_estimators=800;, score=0.785 total time=   1.5s\n",
      "[CV 1/3] END learning_rate=0.001, max_depth=9, n_estimators=500;, score=-0.019 total time=   1.4s\n",
      "[CV 2/3] END learning_rate=0.001, max_depth=9, n_estimators=500;, score=-0.038 total time=   1.4s\n",
      "[CV 3/3] END learning_rate=0.001, max_depth=9, n_estimators=500;, score=0.008 total time=   1.4s\n",
      "[CV 1/3] END learning_rate=0.001, max_depth=8, n_estimators=800;, score=0.257 total time=   1.9s\n",
      "[CV 2/3] END learning_rate=0.001, max_depth=8, n_estimators=800;, score=0.262 total time=   1.9s\n",
      "[CV 3/3] END learning_rate=0.001, max_depth=8, n_estimators=800;, score=0.284 total time=   1.9s\n",
      "[CV 1/3] END learning_rate=0.2, max_depth=6, n_estimators=300;, score=0.800 total time=   0.5s\n",
      "[CV 2/3] END learning_rate=0.2, max_depth=6, n_estimators=300;, score=0.807 total time=   0.5s\n",
      "[CV 3/3] END learning_rate=0.2, max_depth=6, n_estimators=300;, score=0.807 total time=   0.5s\n",
      "[CV 1/3] END learning_rate=0.001, max_depth=7, n_estimators=300;, score=-0.384 total time=   0.7s\n",
      "[CV 2/3] END learning_rate=0.001, max_depth=7, n_estimators=300;, score=-0.414 total time=   0.6s\n",
      "[CV 3/3] END learning_rate=0.001, max_depth=7, n_estimators=300;, score=-0.338 total time=   0.6s\n",
      "[CV 1/3] END learning_rate=0.3, max_depth=4, n_estimators=200;, score=0.758 total time=   0.2s\n",
      "[CV 2/3] END learning_rate=0.3, max_depth=4, n_estimators=200;, score=0.757 total time=   0.3s\n",
      "[CV 3/3] END learning_rate=0.3, max_depth=4, n_estimators=200;, score=0.748 total time=   0.2s\n",
      "[CV 1/3] END learning_rate=0.001, max_depth=3, n_estimators=400;, score=-0.354 total time=   0.7s\n"
     ]
    },
    {
     "name": "stdout",
     "output_type": "stream",
     "text": [
      "[CV 2/3] END learning_rate=0.001, max_depth=3, n_estimators=400;, score=-0.393 total time=   0.6s\n",
      "[CV 3/3] END learning_rate=0.001, max_depth=3, n_estimators=400;, score=-0.305 total time=   0.4s\n",
      "[CV 1/3] END learning_rate=0.2, max_depth=4, n_estimators=900;, score=0.772 total time=   1.1s\n",
      "[CV 2/3] END learning_rate=0.2, max_depth=4, n_estimators=900;, score=0.764 total time=   1.1s\n",
      "[CV 3/3] END learning_rate=0.2, max_depth=4, n_estimators=900;, score=0.759 total time=   0.9s\n",
      "[CV 1/3] END learning_rate=0.0001, max_depth=2, n_estimators=700;, score=-0.971 total time=   0.4s\n",
      "[CV 2/3] END learning_rate=0.0001, max_depth=2, n_estimators=700;, score=-1.007 total time=   0.4s\n",
      "[CV 3/3] END learning_rate=0.0001, max_depth=2, n_estimators=700;, score=-0.903 total time=   0.4s\n",
      "[CV 1/3] END learning_rate=0.0001, max_depth=9, n_estimators=500;, score=-0.977 total time=   1.4s\n",
      "[CV 2/3] END learning_rate=0.0001, max_depth=9, n_estimators=500;, score=-1.007 total time=   1.4s\n",
      "[CV 3/3] END learning_rate=0.0001, max_depth=9, n_estimators=500;, score=-0.907 total time=   1.4s\n",
      "[CV 1/3] END learning_rate=0.2, max_depth=2, n_estimators=400;, score=0.646 total time=   0.2s\n",
      "[CV 2/3] END learning_rate=0.2, max_depth=2, n_estimators=400;, score=0.643 total time=   0.2s\n",
      "[CV 3/3] END learning_rate=0.2, max_depth=2, n_estimators=400;, score=0.624 total time=   0.3s\n",
      "[CV 1/3] END learning_rate=0.1, max_depth=8, n_estimators=600;, score=0.820 total time=   1.3s\n",
      "[CV 2/3] END learning_rate=0.1, max_depth=8, n_estimators=600;, score=0.822 total time=   1.3s\n",
      "[CV 3/3] END learning_rate=0.1, max_depth=8, n_estimators=600;, score=0.822 total time=   1.9s\n",
      "[CV 1/3] END learning_rate=0.1, max_depth=9, n_estimators=700;, score=0.820 total time=   1.8s\n",
      "[CV 2/3] END learning_rate=0.1, max_depth=9, n_estimators=700;, score=0.828 total time=   1.8s\n",
      "[CV 3/3] END learning_rate=0.1, max_depth=9, n_estimators=700;, score=0.824 total time=   1.9s\n",
      "[CV 1/3] END learning_rate=0.3, max_depth=7, n_estimators=500;, score=0.796 total time=   1.0s\n",
      "[CV 2/3] END learning_rate=0.3, max_depth=7, n_estimators=500;, score=0.812 total time=   1.1s\n",
      "[CV 3/3] END learning_rate=0.3, max_depth=7, n_estimators=500;, score=0.785 total time=   1.0s\n",
      "[CV 1/3] END learning_rate=0.001, max_depth=6, n_estimators=600;, score=0.024 total time=   1.0s\n",
      "[CV 2/3] END learning_rate=0.001, max_depth=6, n_estimators=600;, score=-0.011 total time=   1.0s\n",
      "[CV 3/3] END learning_rate=0.001, max_depth=6, n_estimators=600;, score=0.050 total time=   1.0s\n",
      "[CV 1/3] END learning_rate=0.1, max_depth=8, n_estimators=200;, score=0.815 total time=   0.5s\n",
      "[CV 2/3] END learning_rate=0.1, max_depth=8, n_estimators=200;, score=0.818 total time=   0.5s\n",
      "[CV 3/3] END learning_rate=0.1, max_depth=8, n_estimators=200;, score=0.820 total time=   0.5s\n",
      "[CV 1/3] END learning_rate=0.1, max_depth=6, n_estimators=500;, score=0.794 total time=   0.8s\n",
      "[CV 2/3] END learning_rate=0.1, max_depth=6, n_estimators=500;, score=0.805 total time=   0.8s\n",
      "[CV 3/3] END learning_rate=0.1, max_depth=6, n_estimators=500;, score=0.803 total time=   1.4s\n",
      "[CV 1/3] END learning_rate=0.001, max_depth=6, n_estimators=500;, score=-0.092 total time=   0.9s\n",
      "[CV 2/3] END learning_rate=0.001, max_depth=6, n_estimators=500;, score=-0.129 total time=   0.8s\n",
      "[CV 3/3] END learning_rate=0.001, max_depth=6, n_estimators=500;, score=-0.061 total time=   0.8s\n",
      "[CV 1/3] END learning_rate=0.2, max_depth=5, n_estimators=200;, score=0.784 total time=   0.3s\n",
      "[CV 2/3] END learning_rate=0.2, max_depth=5, n_estimators=200;, score=0.779 total time=   0.3s\n",
      "[CV 3/3] END learning_rate=0.2, max_depth=5, n_estimators=200;, score=0.774 total time=   0.3s\n",
      "[CV 1/3] END learning_rate=0.1, max_depth=7, n_estimators=800;, score=0.815 total time=   2.1s\n",
      "[CV 2/3] END learning_rate=0.1, max_depth=7, n_estimators=800;, score=0.820 total time=   1.7s\n",
      "[CV 3/3] END learning_rate=0.1, max_depth=7, n_estimators=800;, score=0.813 total time=   1.7s\n",
      "[CV 1/3] END learning_rate=0.3, max_depth=3, n_estimators=900;, score=0.729 total time=   0.8s\n",
      "[CV 2/3] END learning_rate=0.3, max_depth=3, n_estimators=900;, score=0.730 total time=   0.8s\n",
      "[CV 3/3] END learning_rate=0.3, max_depth=3, n_estimators=900;, score=0.730 total time=   0.7s\n",
      "[CV 1/3] END learning_rate=0.0001, max_depth=8, n_estimators=200;, score=-1.076 total time=   0.5s\n",
      "[CV 2/3] END learning_rate=0.0001, max_depth=8, n_estimators=200;, score=-1.108 total time=   0.5s\n",
      "[CV 3/3] END learning_rate=0.0001, max_depth=8, n_estimators=200;, score=-1.005 total time=   0.5s\n",
      "[CV 1/3] END learning_rate=0.0001, max_depth=2, n_estimators=200;, score=-1.092 total time=   0.1s\n",
      "[CV 2/3] END learning_rate=0.0001, max_depth=2, n_estimators=200;, score=-1.125 total time=   0.1s\n",
      "[CV 3/3] END learning_rate=0.0001, max_depth=2, n_estimators=200;, score=-1.020 total time=   0.1s\n",
      "[CV 1/3] END learning_rate=0.2, max_depth=7, n_estimators=300;, score=0.816 total time=   0.6s\n",
      "[CV 2/3] END learning_rate=0.2, max_depth=7, n_estimators=300;, score=0.804 total time=   0.6s\n",
      "[CV 3/3] END learning_rate=0.2, max_depth=7, n_estimators=300;, score=0.807 total time=   0.6s\n",
      "[CV 1/3] END learning_rate=0.3, max_depth=3, n_estimators=500;, score=0.725 total time=   0.9s\n",
      "[CV 2/3] END learning_rate=0.3, max_depth=3, n_estimators=500;, score=0.723 total time=   0.5s\n",
      "[CV 3/3] END learning_rate=0.3, max_depth=3, n_estimators=500;, score=0.725 total time=   0.4s\n",
      "[CV 1/3] END learning_rate=0.1, max_depth=2, n_estimators=400;, score=0.618 total time=   0.2s\n",
      "[CV 2/3] END learning_rate=0.1, max_depth=2, n_estimators=400;, score=0.604 total time=   0.2s\n",
      "[CV 3/3] END learning_rate=0.1, max_depth=2, n_estimators=400;, score=0.587 total time=   0.3s\n",
      "[CV 1/3] END learning_rate=0.2, max_depth=2, n_estimators=300;, score=0.638 total time=   0.2s\n",
      "[CV 2/3] END learning_rate=0.2, max_depth=2, n_estimators=300;, score=0.629 total time=   0.2s\n",
      "[CV 3/3] END learning_rate=0.2, max_depth=2, n_estimators=300;, score=0.609 total time=   0.2s\n",
      "[CV 1/3] END learning_rate=0.0001, max_depth=4, n_estimators=600;, score=-0.975 total time=   0.6s\n",
      "[CV 2/3] END learning_rate=0.0001, max_depth=4, n_estimators=600;, score=-1.010 total time=   0.6s\n",
      "[CV 3/3] END learning_rate=0.0001, max_depth=4, n_estimators=600;, score=-0.908 total time=   0.6s\n",
      "The best hyperparameters are  {'n_estimators': 700, 'max_depth': 9, 'learning_rate': 0.1}\n"
     ]
    }
   ],
   "source": [
    "regressor=xgb.XGBRegressor(eval_metric='rmsle')\n",
    "\n",
    "# set up our search grid\n",
    "param_grid = {\"max_depth\":    range(2,10,1),\n",
    "              \"n_estimators\": range(200,1000,100),\n",
    "              \"learning_rate\": [0.0001,0.001,0.1,0.2,0.3]}\n",
    "\n",
    "# try out every combination of the above values\n",
    "search = RandomizedSearchCV(regressor, param_grid, cv=3, verbose=3, n_iter=50).fit(X_train, y_train)\n",
    "\n",
    "print(\"The best hyperparameters are \",search.best_params_)"
   ]
  },
  {
   "cell_type": "code",
   "execution_count": 47,
   "id": "e9cc170c",
   "metadata": {},
   "outputs": [
    {
     "data": {
      "text/plain": [
       "XGBRegressor(base_score=0.5, booster='gbtree', callbacks=None,\n",
       "             colsample_bylevel=1, colsample_bynode=1, colsample_bytree=1,\n",
       "             early_stopping_rounds=None, enable_categorical=False,\n",
       "             eval_metric=None, feature_types=None, gamma=0, gpu_id=-1,\n",
       "             grow_policy='depthwise', importance_type=None,\n",
       "             interaction_constraints='', learning_rate=0.1, max_bin=256,\n",
       "             max_cat_threshold=64, max_cat_to_onehot=4, max_delta_step=0,\n",
       "             max_depth=9, max_leaves=0, min_child_weight=1, missing=nan,\n",
       "             monotone_constraints='()', n_estimators=700, n_jobs=0,\n",
       "             num_parallel_tree=1, predictor='auto', random_state=0, ...)"
      ]
     },
     "execution_count": 47,
     "metadata": {},
     "output_type": "execute_result"
    }
   ],
   "source": [
    "regressor=xgb.XGBRegressor(n_estimators=700, max_depth=9, learning_rate=0.1)\n",
    "regressor.fit(X_train, y_train)"
   ]
  },
  {
   "cell_type": "code",
   "execution_count": 53,
   "id": "d3bc5bbb",
   "metadata": {},
   "outputs": [],
   "source": [
    "predictions = regressor.predict(X_test)"
   ]
  },
  {
   "cell_type": "code",
   "execution_count": 56,
   "id": "5a8dac03",
   "metadata": {},
   "outputs": [
    {
     "data": {
      "text/plain": [
       "[<matplotlib.lines.Line2D at 0x7f872221e430>]"
      ]
     },
     "execution_count": 56,
     "metadata": {},
     "output_type": "execute_result"
    },
    {
     "data": {
      "image/png": "[encoded data removed]",
      "text/plain": [
       "<Figure size 432x288 with 1 Axes>"
      ]
     },
     "metadata": {
      "needs_background": "light"
     },
     "output_type": "display_data"
    }
   ],
   "source": [
    "plt.plot(list(predictions[500:550]), color='b')\n",
    "plt.plot(list(y_test[500:550]), color='r')"
   ]
  },
  {
   "cell_type": "code",
   "execution_count": 57,
   "id": "5e5cfc2c",
   "metadata": {},
   "outputs": [],
   "source": [
    "#valid\n",
    "\n",
    "predictions_val = regressor.predict(X_val)"
   ]
  },
  {
   "cell_type": "code",
   "execution_count": 60,
   "id": "7532a178",
   "metadata": {},
   "outputs": [
    {
     "data": {
      "text/plain": [
       "[<matplotlib.lines.Line2D at 0x7f8722bb79d0>]"
      ]
     },
     "execution_count": 60,
     "metadata": {},
     "output_type": "execute_result"
    },
    {
     "data": {
      "image/png": "[encoded data removed]",
      "text/plain": [
       "<Figure size 432x288 with 1 Axes>"
      ]
     },
     "metadata": {
      "needs_background": "light"
     },
     "output_type": "display_data"
    }
   ],
   "source": [
    "plt.plot(list(predictions_val), color='b')\n",
    "plt.plot(list(y_val), color='r')"
   ]
  },
  {
   "cell_type": "code",
   "execution_count": null,
   "id": "633db29b",
   "metadata": {},
   "outputs": [],
   "source": []
  }
 ],
 "metadata": {
  "kernelspec": {
   "display_name": "Python 3 (ipykernel)",
   "language": "python",
   "name": "python3"
  },
  "language_info": {
   "codemirror_mode": {
    "name": "ipython",
    "version": 3
   },
   "file_extension": ".py",
   "mimetype": "text/x-python",
   "name": "python",
   "nbconvert_exporter": "python",
   "pygments_lexer": "ipython3",
   "version": "3.9.12"
  }
 },
 "nbformat": 4,
 "nbformat_minor": 5
}
